{
 "cells": [
  {
   "cell_type": "code",
   "execution_count": 1,
   "id": "255bd3d9",
   "metadata": {},
   "outputs": [],
   "source": [
    "# Noktaların tanımlanması\n",
    "points = [(1, 2), (4, 6), (5, 9), (2, 8), (3, 3)]  # Örnek noktalar"
   ]
  },
  {
   "cell_type": "code",
   "execution_count": 2,
   "id": "7d5a1aef",
   "metadata": {},
   "outputs": [],
   "source": [
    "# Öklid mesafesini hesaplayan fonksiyon\n",
    "def euclideanDistance(point1, point2):\n",
    "    x1, y1 = point1\n",
    "    x2, y2 = point2\n",
    "    return math.sqrt((x2 - x1)**2 + (y2 - y1)**2)"
   ]
  },
  {
   "cell_type": "code",
   "execution_count": 4,
   "id": "57344cc2",
   "metadata": {},
   "outputs": [],
   "source": [
    "import math\n",
    "# Mesafelerin hesaplanması\n",
    "distances = []\n",
    "for i in range(len(points)):\n",
    "    for j in range(i + 1, len(points)):\n",
    "        distance = euclideanDistance(points[i], points[j])\n",
    "        distances.append(distance)"
   ]
  },
  {
   "cell_type": "code",
   "execution_count": 5,
   "id": "c2ebb18d",
   "metadata": {},
   "outputs": [
    {
     "name": "stdout",
     "output_type": "stream",
     "text": [
      "Tüm nokta çiftleri arasındaki mesafeler: [5.0, 8.06225774829855, 6.082762530298219, 2.23606797749979, 3.1622776601683795, 2.8284271247461903, 3.1622776601683795, 3.1622776601683795, 6.324555320336759, 5.0990195135927845]\n",
      "Minimum mesafe: 2.23606797749979\n"
     ]
    }
   ],
   "source": [
    "# Minimum mesafenin bulunması\n",
    "min_distance = min(distances)\n",
    "\n",
    "# Sonuçların yazdırılması\n",
    "print(f\"Tüm nokta çiftleri arasındaki mesafeler: {distances}\")\n",
    "print(f\"Minimum mesafe: {min_distance}\")"
   ]
  },
  {
   "cell_type": "code",
   "execution_count": null,
   "id": "c79d7bc7",
   "metadata": {},
   "outputs": [],
   "source": []
  }
 ],
 "metadata": {
  "kernelspec": {
   "display_name": "Python 3 (ipykernel)",
   "language": "python",
   "name": "python3"
  },
  "language_info": {
   "codemirror_mode": {
    "name": "ipython",
    "version": 3
   },
   "file_extension": ".py",
   "mimetype": "text/x-python",
   "name": "python",
   "nbconvert_exporter": "python",
   "pygments_lexer": "ipython3",
   "version": "3.9.12"
  }
 },
 "nbformat": 4,
 "nbformat_minor": 5
}
